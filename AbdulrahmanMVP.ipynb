{
 "cells": [
  {
   "cell_type": "code",
   "execution_count": 83,
   "id": "4c4e40a3",
   "metadata": {},
   "outputs": [],
   "source": [
    "import pandas as pd\n",
    "import datetime\n",
    "%matplotlib inline\n",
    "import matplotlib.pyplot as plt"
   ]
  },
  {
   "cell_type": "code",
   "execution_count": 5,
   "id": "206813a3",
   "metadata": {},
   "outputs": [],
   "source": [
    "# Data frame for the last three month (SEP,AUG,JUL)\n",
    "def get_data(week_nums):\n",
    "    url = \"http://web.mta.info/developers/data/nyct/turnstile/turnstile_{}.txt\"\n",
    "    dfs = []\n",
    "    for week_num in week_nums:\n",
    "        file_url = url.format(week_num)\n",
    "        dfs.append(pd.read_csv(file_url))\n",
    "    return pd.concat(dfs)\n",
    "        \n",
    "week_nums = [210925, 210828, 210724]\n",
    "df = get_data(week_nums)"
   ]
  },
  {
   "cell_type": "code",
   "execution_count": 7,
   "id": "0a9cc332",
   "metadata": {},
   "outputs": [
    {
     "name": "stdout",
     "output_type": "stream",
     "text": [
      "<class 'pandas.core.frame.DataFrame'>\n",
      "Int64Index: 628867 entries, 0 to 209398\n",
      "Data columns (total 11 columns):\n",
      " #   Column                                                                Non-Null Count   Dtype \n",
      "---  ------                                                                --------------   ----- \n",
      " 0   C/A                                                                   628867 non-null  object\n",
      " 1   UNIT                                                                  628867 non-null  object\n",
      " 2   SCP                                                                   628867 non-null  object\n",
      " 3   STATION                                                               628867 non-null  object\n",
      " 4   LINENAME                                                              628867 non-null  object\n",
      " 5   DIVISION                                                              628867 non-null  object\n",
      " 6   DATE                                                                  628867 non-null  object\n",
      " 7   TIME                                                                  628867 non-null  object\n",
      " 8   DESC                                                                  628867 non-null  object\n",
      " 9   ENTRIES                                                               628867 non-null  int64 \n",
      " 10  EXITS                                                                 628867 non-null  int64 \n",
      "dtypes: int64(2), object(9)\n",
      "memory usage: 57.6+ MB\n"
     ]
    }
   ],
   "source": [
    "df.info()"
   ]
  },
  {
   "cell_type": "code",
   "execution_count": 9,
   "id": "fd670157",
   "metadata": {},
   "outputs": [
    {
     "data": {
      "text/plain": [
       "dtype('O')"
      ]
     },
     "execution_count": 9,
     "metadata": {},
     "output_type": "execute_result"
    }
   ],
   "source": [
    "turnstiles_df.TIME.dtypes"
   ]
  },
  {
   "cell_type": "code",
   "execution_count": 11,
   "id": "c686c9c7",
   "metadata": {},
   "outputs": [],
   "source": [
    "df[\"DATE_TIME\"] = pd.to_datetime(turnstiles_df.DATE + \" \" + turnstiles_df.TIME, \n",
    "                                            format=\"%m/%d/%Y %H:%M:%S\")"
   ]
  },
  {
   "cell_type": "code",
   "execution_count": 12,
   "id": "cefedb77",
   "metadata": {},
   "outputs": [
    {
     "data": {
      "text/html": [
       "<div>\n",
       "<style scoped>\n",
       "    .dataframe tbody tr th:only-of-type {\n",
       "        vertical-align: middle;\n",
       "    }\n",
       "\n",
       "    .dataframe tbody tr th {\n",
       "        vertical-align: top;\n",
       "    }\n",
       "\n",
       "    .dataframe thead th {\n",
       "        text-align: right;\n",
       "    }\n",
       "</style>\n",
       "<table border=\"1\" class=\"dataframe\">\n",
       "  <thead>\n",
       "    <tr style=\"text-align: right;\">\n",
       "      <th></th>\n",
       "      <th>C/A</th>\n",
       "      <th>UNIT</th>\n",
       "      <th>SCP</th>\n",
       "      <th>STATION</th>\n",
       "      <th>LINENAME</th>\n",
       "      <th>DIVISION</th>\n",
       "      <th>DATE</th>\n",
       "      <th>TIME</th>\n",
       "      <th>DESC</th>\n",
       "      <th>ENTRIES</th>\n",
       "      <th>EXITS</th>\n",
       "      <th>DATE_TIME</th>\n",
       "    </tr>\n",
       "  </thead>\n",
       "  <tbody>\n",
       "    <tr>\n",
       "      <th>0</th>\n",
       "      <td>A002</td>\n",
       "      <td>R051</td>\n",
       "      <td>02-00-00</td>\n",
       "      <td>59 ST</td>\n",
       "      <td>NQR456W</td>\n",
       "      <td>BMT</td>\n",
       "      <td>09/18/2021</td>\n",
       "      <td>00:00:00</td>\n",
       "      <td>REGULAR</td>\n",
       "      <td>7637026</td>\n",
       "      <td>2613455</td>\n",
       "      <td>2021-09-18 00:00:00</td>\n",
       "    </tr>\n",
       "    <tr>\n",
       "      <th>1</th>\n",
       "      <td>A002</td>\n",
       "      <td>R051</td>\n",
       "      <td>02-00-00</td>\n",
       "      <td>59 ST</td>\n",
       "      <td>NQR456W</td>\n",
       "      <td>BMT</td>\n",
       "      <td>09/18/2021</td>\n",
       "      <td>04:00:00</td>\n",
       "      <td>REGULAR</td>\n",
       "      <td>7637036</td>\n",
       "      <td>2613457</td>\n",
       "      <td>2021-09-18 04:00:00</td>\n",
       "    </tr>\n",
       "    <tr>\n",
       "      <th>2</th>\n",
       "      <td>A002</td>\n",
       "      <td>R051</td>\n",
       "      <td>02-00-00</td>\n",
       "      <td>59 ST</td>\n",
       "      <td>NQR456W</td>\n",
       "      <td>BMT</td>\n",
       "      <td>09/18/2021</td>\n",
       "      <td>08:00:00</td>\n",
       "      <td>REGULAR</td>\n",
       "      <td>7637047</td>\n",
       "      <td>2613478</td>\n",
       "      <td>2021-09-18 08:00:00</td>\n",
       "    </tr>\n",
       "    <tr>\n",
       "      <th>3</th>\n",
       "      <td>A002</td>\n",
       "      <td>R051</td>\n",
       "      <td>02-00-00</td>\n",
       "      <td>59 ST</td>\n",
       "      <td>NQR456W</td>\n",
       "      <td>BMT</td>\n",
       "      <td>09/18/2021</td>\n",
       "      <td>12:00:00</td>\n",
       "      <td>REGULAR</td>\n",
       "      <td>7637104</td>\n",
       "      <td>2613524</td>\n",
       "      <td>2021-09-18 12:00:00</td>\n",
       "    </tr>\n",
       "    <tr>\n",
       "      <th>4</th>\n",
       "      <td>A002</td>\n",
       "      <td>R051</td>\n",
       "      <td>02-00-00</td>\n",
       "      <td>59 ST</td>\n",
       "      <td>NQR456W</td>\n",
       "      <td>BMT</td>\n",
       "      <td>09/18/2021</td>\n",
       "      <td>16:00:00</td>\n",
       "      <td>REGULAR</td>\n",
       "      <td>7637236</td>\n",
       "      <td>2613561</td>\n",
       "      <td>2021-09-18 16:00:00</td>\n",
       "    </tr>\n",
       "  </tbody>\n",
       "</table>\n",
       "</div>"
      ],
      "text/plain": [
       "    C/A  UNIT       SCP STATION LINENAME DIVISION        DATE      TIME  \\\n",
       "0  A002  R051  02-00-00   59 ST  NQR456W      BMT  09/18/2021  00:00:00   \n",
       "1  A002  R051  02-00-00   59 ST  NQR456W      BMT  09/18/2021  04:00:00   \n",
       "2  A002  R051  02-00-00   59 ST  NQR456W      BMT  09/18/2021  08:00:00   \n",
       "3  A002  R051  02-00-00   59 ST  NQR456W      BMT  09/18/2021  12:00:00   \n",
       "4  A002  R051  02-00-00   59 ST  NQR456W      BMT  09/18/2021  16:00:00   \n",
       "\n",
       "      DESC  ENTRIES  \\\n",
       "0  REGULAR  7637026   \n",
       "1  REGULAR  7637036   \n",
       "2  REGULAR  7637047   \n",
       "3  REGULAR  7637104   \n",
       "4  REGULAR  7637236   \n",
       "\n",
       "   EXITS                                                                 \\\n",
       "0                                            2613455                      \n",
       "1                                            2613457                      \n",
       "2                                            2613478                      \n",
       "3                                            2613524                      \n",
       "4                                            2613561                      \n",
       "\n",
       "            DATE_TIME  \n",
       "0 2021-09-18 00:00:00  \n",
       "1 2021-09-18 04:00:00  \n",
       "2 2021-09-18 08:00:00  \n",
       "3 2021-09-18 12:00:00  \n",
       "4 2021-09-18 16:00:00  "
      ]
     },
     "execution_count": 12,
     "metadata": {},
     "output_type": "execute_result"
    }
   ],
   "source": [
    "df.head()"
   ]
  },
  {
   "cell_type": "code",
   "execution_count": 17,
   "id": "0cf75dbb",
   "metadata": {},
   "outputs": [],
   "source": [
    "df.columns = [column.strip() for column in df.columns]"
   ]
  },
  {
   "cell_type": "code",
   "execution_count": 18,
   "id": "4898d5a2",
   "metadata": {},
   "outputs": [
    {
     "data": {
      "text/html": [
       "<div>\n",
       "<style scoped>\n",
       "    .dataframe tbody tr th:only-of-type {\n",
       "        vertical-align: middle;\n",
       "    }\n",
       "\n",
       "    .dataframe tbody tr th {\n",
       "        vertical-align: top;\n",
       "    }\n",
       "\n",
       "    .dataframe thead th {\n",
       "        text-align: right;\n",
       "    }\n",
       "</style>\n",
       "<table border=\"1\" class=\"dataframe\">\n",
       "  <thead>\n",
       "    <tr style=\"text-align: right;\">\n",
       "      <th></th>\n",
       "      <th>C/A</th>\n",
       "      <th>UNIT</th>\n",
       "      <th>SCP</th>\n",
       "      <th>STATION</th>\n",
       "      <th>DATE_TIME</th>\n",
       "      <th>ENTRIES</th>\n",
       "    </tr>\n",
       "  </thead>\n",
       "  <tbody>\n",
       "    <tr>\n",
       "      <th>565308</th>\n",
       "      <td>R514</td>\n",
       "      <td>R094</td>\n",
       "      <td>00-05-00</td>\n",
       "      <td>ASTORIA BLVD</td>\n",
       "      <td>2021-07-22 12:00:00</td>\n",
       "      <td>2</td>\n",
       "    </tr>\n",
       "    <tr>\n",
       "      <th>623867</th>\n",
       "      <td>S101</td>\n",
       "      <td>R070</td>\n",
       "      <td>00-00-02</td>\n",
       "      <td>ST. GEORGE</td>\n",
       "      <td>2021-09-18 00:00:00</td>\n",
       "      <td>2</td>\n",
       "    </tr>\n",
       "    <tr>\n",
       "      <th>564340</th>\n",
       "      <td>R514</td>\n",
       "      <td>R094</td>\n",
       "      <td>00-00-00</td>\n",
       "      <td>ASTORIA BLVD</td>\n",
       "      <td>2021-09-22 12:00:00</td>\n",
       "      <td>2</td>\n",
       "    </tr>\n",
       "    <tr>\n",
       "      <th>623873</th>\n",
       "      <td>S101</td>\n",
       "      <td>R070</td>\n",
       "      <td>00-00-02</td>\n",
       "      <td>ST. GEORGE</td>\n",
       "      <td>2021-09-19 00:00:00</td>\n",
       "      <td>2</td>\n",
       "    </tr>\n",
       "    <tr>\n",
       "      <th>623872</th>\n",
       "      <td>S101</td>\n",
       "      <td>R070</td>\n",
       "      <td>00-00-02</td>\n",
       "      <td>ST. GEORGE</td>\n",
       "      <td>2021-09-18 20:00:00</td>\n",
       "      <td>2</td>\n",
       "    </tr>\n",
       "  </tbody>\n",
       "</table>\n",
       "</div>"
      ],
      "text/plain": [
       "         C/A  UNIT       SCP       STATION           DATE_TIME  ENTRIES\n",
       "565308  R514  R094  00-05-00  ASTORIA BLVD 2021-07-22 12:00:00        2\n",
       "623867  S101  R070  00-00-02    ST. GEORGE 2021-09-18 00:00:00        2\n",
       "564340  R514  R094  00-00-00  ASTORIA BLVD 2021-09-22 12:00:00        2\n",
       "623873  S101  R070  00-00-02    ST. GEORGE 2021-09-19 00:00:00        2\n",
       "623872  S101  R070  00-00-02    ST. GEORGE 2021-09-18 20:00:00        2"
      ]
     },
     "execution_count": 18,
     "metadata": {},
     "output_type": "execute_result"
    }
   ],
   "source": [
    "(turnstiles_df\n",
    " .groupby([\"C/A\", \"UNIT\", \"SCP\", \"STATION\", \"DATE_TIME\"])\n",
    " .ENTRIES.count()\n",
    " .reset_index()\n",
    " .sort_values(\"ENTRIES\", ascending=False)).head(5)\n",
    "# to check if we have dublicate value"
   ]
  },
  {
   "cell_type": "code",
   "execution_count": 46,
   "id": "c05b71f5",
   "metadata": {},
   "outputs": [],
   "source": [
    "# Get rid of the duplicate entry\n",
    "df.sort_values([\"C/A\", \"UNIT\", \"SCP\", \"STATION\", \"DATE_TIME\"], \n",
    "                          inplace=True, ascending=False)\n",
    "df.drop_duplicates(subset=[\"C/A\", \"UNIT\", \"SCP\", \"STATION\", \"DATE_TIME\"], inplace=True)"
   ]
  },
  {
   "cell_type": "code",
   "execution_count": 47,
   "id": "7079f26a",
   "metadata": {},
   "outputs": [],
   "source": [
    "daily_df = (turnstiles_df\n",
    "                        .groupby([\"C/A\", \"UNIT\", \"SCP\", \"STATION\", \"DATE\",\"DATE_TIME\"],as_index=False)\n",
    "                        .ENTRIES.first())"
   ]
  },
  {
   "cell_type": "code",
   "execution_count": 48,
   "id": "2e3b1b70",
   "metadata": {},
   "outputs": [
    {
     "name": "stderr",
     "output_type": "stream",
     "text": [
      "<ipython-input-48-3570f5d86822>:1: FutureWarning: Indexing with multiple keys (implicitly converted to a tuple of keys) will be deprecated, use a list instead.\n",
      "  daily_df[[\"PREV_DATE\", \"PREV_ENTRIES\"]] = (daily_df.groupby([\"C/A\", \"UNIT\", \"SCP\", \"STATION\"])[\"DATE\", \"ENTRIES\"].apply(lambda grp: grp.shift(1)))\n"
     ]
    }
   ],
   "source": [
    "daily_df[[\"PREV_DATE\", \"PREV_ENTRIES\"]] = (daily_df.groupby([\"C/A\", \"UNIT\", \"SCP\", \"STATION\"])[\"DATE\", \"ENTRIES\"].apply(lambda grp: grp.shift(1)))"
   ]
  },
  {
   "cell_type": "code",
   "execution_count": 49,
   "id": "83b7aa6d",
   "metadata": {},
   "outputs": [
    {
     "data": {
      "text/html": [
       "<div>\n",
       "<style scoped>\n",
       "    .dataframe tbody tr th:only-of-type {\n",
       "        vertical-align: middle;\n",
       "    }\n",
       "\n",
       "    .dataframe tbody tr th {\n",
       "        vertical-align: top;\n",
       "    }\n",
       "\n",
       "    .dataframe thead th {\n",
       "        text-align: right;\n",
       "    }\n",
       "</style>\n",
       "<table border=\"1\" class=\"dataframe\">\n",
       "  <thead>\n",
       "    <tr style=\"text-align: right;\">\n",
       "      <th></th>\n",
       "      <th>C/A</th>\n",
       "      <th>UNIT</th>\n",
       "      <th>SCP</th>\n",
       "      <th>STATION</th>\n",
       "      <th>DATE</th>\n",
       "      <th>DATE_TIME</th>\n",
       "      <th>ENTRIES</th>\n",
       "      <th>PREV_DATE</th>\n",
       "      <th>PREV_ENTRIES</th>\n",
       "    </tr>\n",
       "  </thead>\n",
       "  <tbody>\n",
       "    <tr>\n",
       "      <th>0</th>\n",
       "      <td>A002</td>\n",
       "      <td>R051</td>\n",
       "      <td>02-00-00</td>\n",
       "      <td>59 ST</td>\n",
       "      <td>07/17/2021</td>\n",
       "      <td>2021-07-17 00:00:00</td>\n",
       "      <td>7603734</td>\n",
       "      <td>NaN</td>\n",
       "      <td>NaN</td>\n",
       "    </tr>\n",
       "    <tr>\n",
       "      <th>1</th>\n",
       "      <td>A002</td>\n",
       "      <td>R051</td>\n",
       "      <td>02-00-00</td>\n",
       "      <td>59 ST</td>\n",
       "      <td>07/17/2021</td>\n",
       "      <td>2021-07-17 04:00:00</td>\n",
       "      <td>7603744</td>\n",
       "      <td>07/17/2021</td>\n",
       "      <td>7603734.0</td>\n",
       "    </tr>\n",
       "    <tr>\n",
       "      <th>2</th>\n",
       "      <td>A002</td>\n",
       "      <td>R051</td>\n",
       "      <td>02-00-00</td>\n",
       "      <td>59 ST</td>\n",
       "      <td>07/17/2021</td>\n",
       "      <td>2021-07-17 08:00:00</td>\n",
       "      <td>7603756</td>\n",
       "      <td>07/17/2021</td>\n",
       "      <td>7603744.0</td>\n",
       "    </tr>\n",
       "    <tr>\n",
       "      <th>3</th>\n",
       "      <td>A002</td>\n",
       "      <td>R051</td>\n",
       "      <td>02-00-00</td>\n",
       "      <td>59 ST</td>\n",
       "      <td>07/17/2021</td>\n",
       "      <td>2021-07-17 12:00:00</td>\n",
       "      <td>7603804</td>\n",
       "      <td>07/17/2021</td>\n",
       "      <td>7603756.0</td>\n",
       "    </tr>\n",
       "    <tr>\n",
       "      <th>4</th>\n",
       "      <td>A002</td>\n",
       "      <td>R051</td>\n",
       "      <td>02-00-00</td>\n",
       "      <td>59 ST</td>\n",
       "      <td>07/17/2021</td>\n",
       "      <td>2021-07-17 16:00:00</td>\n",
       "      <td>7603900</td>\n",
       "      <td>07/17/2021</td>\n",
       "      <td>7603804.0</td>\n",
       "    </tr>\n",
       "  </tbody>\n",
       "</table>\n",
       "</div>"
      ],
      "text/plain": [
       "    C/A  UNIT       SCP STATION        DATE           DATE_TIME  ENTRIES  \\\n",
       "0  A002  R051  02-00-00   59 ST  07/17/2021 2021-07-17 00:00:00  7603734   \n",
       "1  A002  R051  02-00-00   59 ST  07/17/2021 2021-07-17 04:00:00  7603744   \n",
       "2  A002  R051  02-00-00   59 ST  07/17/2021 2021-07-17 08:00:00  7603756   \n",
       "3  A002  R051  02-00-00   59 ST  07/17/2021 2021-07-17 12:00:00  7603804   \n",
       "4  A002  R051  02-00-00   59 ST  07/17/2021 2021-07-17 16:00:00  7603900   \n",
       "\n",
       "    PREV_DATE  PREV_ENTRIES  \n",
       "0         NaN           NaN  \n",
       "1  07/17/2021     7603734.0  \n",
       "2  07/17/2021     7603744.0  \n",
       "3  07/17/2021     7603756.0  \n",
       "4  07/17/2021     7603804.0  "
      ]
     },
     "execution_count": 49,
     "metadata": {},
     "output_type": "execute_result"
    }
   ],
   "source": [
    "daily_df.head()"
   ]
  },
  {
   "cell_type": "code",
   "execution_count": 50,
   "id": "a839c640",
   "metadata": {},
   "outputs": [],
   "source": [
    "daily_df.dropna(subset=[\"PREV_DATE\"], axis=0, inplace=True)"
   ]
  },
  {
   "cell_type": "code",
   "execution_count": 51,
   "id": "6869630d",
   "metadata": {
    "scrolled": true
   },
   "outputs": [
    {
     "name": "stdout",
     "output_type": "stream",
     "text": [
      "193 8049630.0\n",
      "167790067 702272.0\n",
      "151 5610355.0\n",
      "35 9769328.0\n",
      "33570198 181535.0\n",
      "31 8714868.0\n",
      "10596 3268116.0\n",
      "0 117440512.0\n",
      "344353 7577027.0\n",
      "327682 67109640.0\n",
      "461 1198122.0\n",
      "46 5405537.0\n",
      "2508 705353287.0\n",
      "16777689 1037129.0\n",
      "6 16034831.0\n",
      "3695 6205980.0\n",
      "292 1947911.0\n",
      "7538 15680090.0\n",
      "8 1255797.0\n",
      "43 3154069.0\n",
      "8368 3098922.0\n",
      "1881 2570099.0\n",
      "50362839 251769.0\n",
      "33236 1953264.0\n",
      "14255 4788322.0\n",
      "105 6246092.0\n",
      "1140 1040930263.0\n",
      "113192 3523950.0\n",
      "201338499 795030.0\n",
      "641 5764026.0\n",
      "1089962103 146735572.0\n",
      "3542824 51735160.0\n",
      "6742 2030205.0\n",
      "3422 7676533.0\n",
      "1189019447 3740789.0\n",
      "2596 1683131.0\n",
      "1387 6480842.0\n",
      "3920 1383105332.0\n"
     ]
    }
   ],
   "source": [
    "def get_daily_counts(row, max_counter):\n",
    "    counter = row[\"ENTRIES\"] - row[\"PREV_ENTRIES\"]\n",
    "    if counter < 0:\n",
    "        # Maybe counter is reversed?\n",
    "        counter = -counter\n",
    "    if counter > max_counter:\n",
    "        # Maybe counter was reset to 0? \n",
    "        print(row[\"ENTRIES\"], row[\"PREV_ENTRIES\"])\n",
    "        counter = min(row[\"ENTRIES\"], row[\"PREV_ENTRIES\"])\n",
    "    if counter > max_counter:\n",
    "        # Check it again to make sure we're not still giving a counter that's too big\n",
    "        return 0\n",
    "    return counter\n",
    "\n",
    "# If counter is > 1Million, then the counter might have been reset.  \n",
    "# Just set it to zero as different counters have different cycle limits\n",
    "# It'd probably be a good idea to use a number even significantly smaller than 1 million as the limit!\n",
    "daily_df[\"DAILY_ENTRIES\"] = daily_df.apply(get_daily_counts, axis=1, max_counter=1000000)"
   ]
  },
  {
   "cell_type": "code",
   "execution_count": 92,
   "id": "c3346ebd",
   "metadata": {},
   "outputs": [
    {
     "data": {
      "text/html": [
       "<div>\n",
       "<style scoped>\n",
       "    .dataframe tbody tr th:only-of-type {\n",
       "        vertical-align: middle;\n",
       "    }\n",
       "\n",
       "    .dataframe tbody tr th {\n",
       "        vertical-align: top;\n",
       "    }\n",
       "\n",
       "    .dataframe thead th {\n",
       "        text-align: right;\n",
       "    }\n",
       "</style>\n",
       "<table border=\"1\" class=\"dataframe\">\n",
       "  <thead>\n",
       "    <tr style=\"text-align: right;\">\n",
       "      <th></th>\n",
       "      <th>C/A</th>\n",
       "      <th>UNIT</th>\n",
       "      <th>STATION</th>\n",
       "      <th>DATE</th>\n",
       "      <th>DAILY_ENTRIES</th>\n",
       "    </tr>\n",
       "  </thead>\n",
       "  <tbody>\n",
       "    <tr>\n",
       "      <th>0</th>\n",
       "      <td>A002</td>\n",
       "      <td>R051</td>\n",
       "      <td>59 ST</td>\n",
       "      <td>07/17/2021</td>\n",
       "      <td>2605.0</td>\n",
       "    </tr>\n",
       "    <tr>\n",
       "      <th>1</th>\n",
       "      <td>A002</td>\n",
       "      <td>R051</td>\n",
       "      <td>59 ST</td>\n",
       "      <td>07/18/2021</td>\n",
       "      <td>2783.0</td>\n",
       "    </tr>\n",
       "    <tr>\n",
       "      <th>2</th>\n",
       "      <td>A002</td>\n",
       "      <td>R051</td>\n",
       "      <td>59 ST</td>\n",
       "      <td>07/19/2021</td>\n",
       "      <td>4813.0</td>\n",
       "    </tr>\n",
       "    <tr>\n",
       "      <th>3</th>\n",
       "      <td>A002</td>\n",
       "      <td>R051</td>\n",
       "      <td>59 ST</td>\n",
       "      <td>07/20/2021</td>\n",
       "      <td>5243.0</td>\n",
       "    </tr>\n",
       "    <tr>\n",
       "      <th>4</th>\n",
       "      <td>A002</td>\n",
       "      <td>R051</td>\n",
       "      <td>59 ST</td>\n",
       "      <td>07/21/2021</td>\n",
       "      <td>5425.0</td>\n",
       "    </tr>\n",
       "  </tbody>\n",
       "</table>\n",
       "</div>"
      ],
      "text/plain": [
       "    C/A  UNIT STATION        DATE  DAILY_ENTRIES\n",
       "0  A002  R051   59 ST  07/17/2021         2605.0\n",
       "1  A002  R051   59 ST  07/18/2021         2783.0\n",
       "2  A002  R051   59 ST  07/19/2021         4813.0\n",
       "3  A002  R051   59 ST  07/20/2021         5243.0\n",
       "4  A002  R051   59 ST  07/21/2021         5425.0"
      ]
     },
     "execution_count": 92,
     "metadata": {},
     "output_type": "execute_result"
    }
   ],
   "source": [
    "ra = daily_df.groupby([\"C/A\", \"UNIT\", \"STATION\", \"DATE\"])[['DAILY_ENTRIES']].sum().reset_index()\n",
    "ra.head()"
   ]
  },
  {
   "cell_type": "code",
   "execution_count": 82,
   "id": "dd4fd5d3",
   "metadata": {},
   "outputs": [
    {
     "data": {
      "text/plain": [
       "(102643,)"
      ]
     },
     "execution_count": 82,
     "metadata": {},
     "output_type": "execute_result"
    }
   ],
   "source": [
    "Zero_Entries= pd.DataFrame(daily_df[daily_df['DAILY_ENTRIES'] == 0])\n",
    "Zero_Entries['DATE_TIME'].shape"
   ]
  },
  {
   "cell_type": "code",
   "execution_count": 96,
   "id": "7e8317ae",
   "metadata": {},
   "outputs": [],
   "source": [
    "each_station = daily_df.groupby([\"STATION\", \"DATE\"])[['DAILY_ENTRIES']].sum().reset_index()"
   ]
  },
  {
   "cell_type": "code",
   "execution_count": 101,
   "id": "238074d5",
   "metadata": {
    "scrolled": true
   },
   "outputs": [
    {
     "data": {
      "text/html": [
       "<div>\n",
       "<style scoped>\n",
       "    .dataframe tbody tr th:only-of-type {\n",
       "        vertical-align: middle;\n",
       "    }\n",
       "\n",
       "    .dataframe tbody tr th {\n",
       "        vertical-align: top;\n",
       "    }\n",
       "\n",
       "    .dataframe thead th {\n",
       "        text-align: right;\n",
       "    }\n",
       "</style>\n",
       "<table border=\"1\" class=\"dataframe\">\n",
       "  <thead>\n",
       "    <tr style=\"text-align: right;\">\n",
       "      <th></th>\n",
       "      <th>STATION</th>\n",
       "      <th>DAILY_ENTRIES</th>\n",
       "    </tr>\n",
       "  </thead>\n",
       "  <tbody>\n",
       "    <tr>\n",
       "      <th>0</th>\n",
       "      <td>34 ST-PENN STA</td>\n",
       "      <td>3382513.0</td>\n",
       "    </tr>\n",
       "    <tr>\n",
       "      <th>1</th>\n",
       "      <td>FULTON ST</td>\n",
       "      <td>3364946.0</td>\n",
       "    </tr>\n",
       "    <tr>\n",
       "      <th>2</th>\n",
       "      <td>86 ST</td>\n",
       "      <td>2508638.0</td>\n",
       "    </tr>\n",
       "    <tr>\n",
       "      <th>3</th>\n",
       "      <td>PATH NEW WTC</td>\n",
       "      <td>2449198.0</td>\n",
       "    </tr>\n",
       "    <tr>\n",
       "      <th>4</th>\n",
       "      <td>72 ST</td>\n",
       "      <td>2407906.0</td>\n",
       "    </tr>\n",
       "  </tbody>\n",
       "</table>\n",
       "</div>"
      ],
      "text/plain": [
       "          STATION  DAILY_ENTRIES\n",
       "0  34 ST-PENN STA      3382513.0\n",
       "1       FULTON ST      3364946.0\n",
       "2           86 ST      2508638.0\n",
       "3    PATH NEW WTC      2449198.0\n",
       "4           72 ST      2407906.0"
      ]
     },
     "execution_count": 101,
     "metadata": {},
     "output_type": "execute_result"
    }
   ],
   "source": [
    "station_totals = each_station.groupby('STATION').sum()\\\n",
    "    .sort_values('DAILY_ENTRIES', ascending=False)\\\n",
    "    .reset_index()\n",
    "station_totals.head()"
   ]
  },
  {
   "cell_type": "code",
   "execution_count": 110,
   "id": "c0f8707d",
   "metadata": {},
   "outputs": [
    {
     "data": {
      "image/png": "[encoded data removed]",
      "text/plain": [
       "<Figure size 432x288 with 1 Axes>"
      ]
     },
     "metadata": {
      "needs_background": "light"
     },
     "output_type": "display_data"
    }
   ],
   "source": [
    "plt.hist(station_totals['DAILY_ENTRIES'], color=\"r\");"
   ]
  },
  {
   "cell_type": "code",
   "execution_count": 107,
   "id": "1ec82804",
   "metadata": {},
   "outputs": [
    {
     "data": {
      "text/html": [
       "<div>\n",
       "<style scoped>\n",
       "    .dataframe tbody tr th:only-of-type {\n",
       "        vertical-align: middle;\n",
       "    }\n",
       "\n",
       "    .dataframe tbody tr th {\n",
       "        vertical-align: top;\n",
       "    }\n",
       "\n",
       "    .dataframe thead th {\n",
       "        text-align: right;\n",
       "    }\n",
       "</style>\n",
       "<table border=\"1\" class=\"dataframe\">\n",
       "  <thead>\n",
       "    <tr style=\"text-align: right;\">\n",
       "      <th></th>\n",
       "      <th>C/A</th>\n",
       "      <th>UNIT</th>\n",
       "      <th>SCP</th>\n",
       "      <th>STATION</th>\n",
       "      <th>DATE</th>\n",
       "      <th>DATE_TIME</th>\n",
       "      <th>ENTRIES</th>\n",
       "      <th>PREV_DATE</th>\n",
       "      <th>PREV_ENTRIES</th>\n",
       "      <th>DAILY_ENTRIES</th>\n",
       "    </tr>\n",
       "  </thead>\n",
       "  <tbody>\n",
       "    <tr>\n",
       "      <th>1</th>\n",
       "      <td>A002</td>\n",
       "      <td>R051</td>\n",
       "      <td>02-00-00</td>\n",
       "      <td>59 ST</td>\n",
       "      <td>07/17/2021</td>\n",
       "      <td>2021-07-17 04:00:00</td>\n",
       "      <td>7603744</td>\n",
       "      <td>07/17/2021</td>\n",
       "      <td>7603734.0</td>\n",
       "      <td>10.0</td>\n",
       "    </tr>\n",
       "    <tr>\n",
       "      <th>2</th>\n",
       "      <td>A002</td>\n",
       "      <td>R051</td>\n",
       "      <td>02-00-00</td>\n",
       "      <td>59 ST</td>\n",
       "      <td>07/17/2021</td>\n",
       "      <td>2021-07-17 08:00:00</td>\n",
       "      <td>7603756</td>\n",
       "      <td>07/17/2021</td>\n",
       "      <td>7603744.0</td>\n",
       "      <td>12.0</td>\n",
       "    </tr>\n",
       "    <tr>\n",
       "      <th>3</th>\n",
       "      <td>A002</td>\n",
       "      <td>R051</td>\n",
       "      <td>02-00-00</td>\n",
       "      <td>59 ST</td>\n",
       "      <td>07/17/2021</td>\n",
       "      <td>2021-07-17 12:00:00</td>\n",
       "      <td>7603804</td>\n",
       "      <td>07/17/2021</td>\n",
       "      <td>7603756.0</td>\n",
       "      <td>48.0</td>\n",
       "    </tr>\n",
       "    <tr>\n",
       "      <th>4</th>\n",
       "      <td>A002</td>\n",
       "      <td>R051</td>\n",
       "      <td>02-00-00</td>\n",
       "      <td>59 ST</td>\n",
       "      <td>07/17/2021</td>\n",
       "      <td>2021-07-17 16:00:00</td>\n",
       "      <td>7603900</td>\n",
       "      <td>07/17/2021</td>\n",
       "      <td>7603804.0</td>\n",
       "      <td>96.0</td>\n",
       "    </tr>\n",
       "    <tr>\n",
       "      <th>5</th>\n",
       "      <td>A002</td>\n",
       "      <td>R051</td>\n",
       "      <td>02-00-00</td>\n",
       "      <td>59 ST</td>\n",
       "      <td>07/17/2021</td>\n",
       "      <td>2021-07-17 20:00:00</td>\n",
       "      <td>7604034</td>\n",
       "      <td>07/17/2021</td>\n",
       "      <td>7603900.0</td>\n",
       "      <td>134.0</td>\n",
       "    </tr>\n",
       "    <tr>\n",
       "      <th>...</th>\n",
       "      <td>...</td>\n",
       "      <td>...</td>\n",
       "      <td>...</td>\n",
       "      <td>...</td>\n",
       "      <td>...</td>\n",
       "      <td>...</td>\n",
       "      <td>...</td>\n",
       "      <td>...</td>\n",
       "      <td>...</td>\n",
       "      <td>...</td>\n",
       "    </tr>\n",
       "    <tr>\n",
       "      <th>628082</th>\n",
       "      <td>TRAM2</td>\n",
       "      <td>R469</td>\n",
       "      <td>00-00-00</td>\n",
       "      <td>RIT-ROOSEVELT</td>\n",
       "      <td>07/19/2021</td>\n",
       "      <td>2021-07-19 09:12:54</td>\n",
       "      <td>881095</td>\n",
       "      <td>07/19/2021</td>\n",
       "      <td>881077.0</td>\n",
       "      <td>18.0</td>\n",
       "    </tr>\n",
       "    <tr>\n",
       "      <th>628209</th>\n",
       "      <td>TRAM2</td>\n",
       "      <td>R469</td>\n",
       "      <td>00-00-01</td>\n",
       "      <td>RIT-ROOSEVELT</td>\n",
       "      <td>07/19/2021</td>\n",
       "      <td>2021-07-19 09:12:54</td>\n",
       "      <td>3793638</td>\n",
       "      <td>07/19/2021</td>\n",
       "      <td>3793616.0</td>\n",
       "      <td>22.0</td>\n",
       "    </tr>\n",
       "    <tr>\n",
       "      <th>628336</th>\n",
       "      <td>TRAM2</td>\n",
       "      <td>R469</td>\n",
       "      <td>00-03-00</td>\n",
       "      <td>RIT-ROOSEVELT</td>\n",
       "      <td>07/19/2021</td>\n",
       "      <td>2021-07-19 09:12:54</td>\n",
       "      <td>755345</td>\n",
       "      <td>07/19/2021</td>\n",
       "      <td>755345.0</td>\n",
       "      <td>0.0</td>\n",
       "    </tr>\n",
       "    <tr>\n",
       "      <th>628463</th>\n",
       "      <td>TRAM2</td>\n",
       "      <td>R469</td>\n",
       "      <td>00-03-01</td>\n",
       "      <td>RIT-ROOSEVELT</td>\n",
       "      <td>07/19/2021</td>\n",
       "      <td>2021-07-19 09:12:54</td>\n",
       "      <td>3136190</td>\n",
       "      <td>07/19/2021</td>\n",
       "      <td>3136188.0</td>\n",
       "      <td>2.0</td>\n",
       "    </tr>\n",
       "    <tr>\n",
       "      <th>628590</th>\n",
       "      <td>TRAM2</td>\n",
       "      <td>R469</td>\n",
       "      <td>00-05-00</td>\n",
       "      <td>RIT-ROOSEVELT</td>\n",
       "      <td>07/19/2021</td>\n",
       "      <td>2021-07-19 09:12:54</td>\n",
       "      <td>0</td>\n",
       "      <td>07/19/2021</td>\n",
       "      <td>0.0</td>\n",
       "      <td>0.0</td>\n",
       "    </tr>\n",
       "  </tbody>\n",
       "</table>\n",
       "<p>44407 rows × 10 columns</p>\n",
       "</div>"
      ],
      "text/plain": [
       "          C/A  UNIT       SCP        STATION        DATE           DATE_TIME  \\\n",
       "1        A002  R051  02-00-00          59 ST  07/17/2021 2021-07-17 04:00:00   \n",
       "2        A002  R051  02-00-00          59 ST  07/17/2021 2021-07-17 08:00:00   \n",
       "3        A002  R051  02-00-00          59 ST  07/17/2021 2021-07-17 12:00:00   \n",
       "4        A002  R051  02-00-00          59 ST  07/17/2021 2021-07-17 16:00:00   \n",
       "5        A002  R051  02-00-00          59 ST  07/17/2021 2021-07-17 20:00:00   \n",
       "...       ...   ...       ...            ...         ...                 ...   \n",
       "628082  TRAM2  R469  00-00-00  RIT-ROOSEVELT  07/19/2021 2021-07-19 09:12:54   \n",
       "628209  TRAM2  R469  00-00-01  RIT-ROOSEVELT  07/19/2021 2021-07-19 09:12:54   \n",
       "628336  TRAM2  R469  00-03-00  RIT-ROOSEVELT  07/19/2021 2021-07-19 09:12:54   \n",
       "628463  TRAM2  R469  00-03-01  RIT-ROOSEVELT  07/19/2021 2021-07-19 09:12:54   \n",
       "628590  TRAM2  R469  00-05-00  RIT-ROOSEVELT  07/19/2021 2021-07-19 09:12:54   \n",
       "\n",
       "        ENTRIES   PREV_DATE  PREV_ENTRIES  DAILY_ENTRIES  \n",
       "1       7603744  07/17/2021     7603734.0           10.0  \n",
       "2       7603756  07/17/2021     7603744.0           12.0  \n",
       "3       7603804  07/17/2021     7603756.0           48.0  \n",
       "4       7603900  07/17/2021     7603804.0           96.0  \n",
       "5       7604034  07/17/2021     7603900.0          134.0  \n",
       "...         ...         ...           ...            ...  \n",
       "628082   881095  07/19/2021      881077.0           18.0  \n",
       "628209  3793638  07/19/2021     3793616.0           22.0  \n",
       "628336   755345  07/19/2021      755345.0            0.0  \n",
       "628463  3136190  07/19/2021     3136188.0            2.0  \n",
       "628590        0  07/19/2021           0.0            0.0  \n",
       "\n",
       "[44407 rows x 10 columns]"
      ]
     },
     "execution_count": 107,
     "metadata": {},
     "output_type": "execute_result"
    }
   ],
   "source": [
    "x = daily_df.groupby('DATE_TIME')\n",
    "x.head()\n",
    "# x[x['DAILY_ENTRIES'] == 0]"
   ]
  },
  {
   "cell_type": "code",
   "execution_count": 113,
   "id": "ca05a0cf",
   "metadata": {},
   "outputs": [],
   "source": [
    "daily_df['DATE_TIME'];"
   ]
  },
  {
   "cell_type": "code",
   "execution_count": 111,
   "id": "f7a8e916",
   "metadata": {},
   "outputs": [
    {
     "data": {
      "text/plain": [
       "([0, 1, 2, 3, 4, 5, 6, 7, 8, 9],\n",
       " [Text(0, 0, ''),\n",
       "  Text(0, 0, ''),\n",
       "  Text(0, 0, ''),\n",
       "  Text(0, 0, ''),\n",
       "  Text(0, 0, ''),\n",
       "  Text(0, 0, ''),\n",
       "  Text(0, 0, ''),\n",
       "  Text(0, 0, ''),\n",
       "  Text(0, 0, ''),\n",
       "  Text(0, 0, '')])"
      ]
     },
     "execution_count": 111,
     "metadata": {},
     "output_type": "execute_result"
    },
    {
     "data": {
      "image/png": "[encoded data removed]",
      "text/plain": [
       "<Figure size 432x288 with 1 Axes>"
      ]
     },
     "metadata": {
      "needs_background": "light"
     },
     "output_type": "display_data"
    }
   ],
   "source": [
    "plt.bar(x=station_totals['STATION'][:10], height=station_totals['DAILY_ENTRIES'][:10]);\n",
    "plt.xticks(rotation=90)"
   ]
  },
  {
   "cell_type": "code",
   "execution_count": 112,
   "id": "930453ab",
   "metadata": {},
   "outputs": [
    {
     "data": {
      "text/plain": [
       "[<matplotlib.lines.Line2D at 0x7f86aadead30>]"
      ]
     },
     "execution_count": 112,
     "metadata": {},
     "output_type": "execute_result"
    },
    {
     "data": {
      "image/png": "[encoded data removed]",
      "text/plain": [
       "<Figure size 432x288 with 1 Axes>"
      ]
     },
     "metadata": {
      "needs_background": "light"
     },
     "output_type": "display_data"
    }
   ],
   "source": [
    "plt.plot(station_totals['DAILY_ENTRIES'])"
   ]
  },
  {
   "cell_type": "code",
   "execution_count": null,
   "id": "253ebe60",
   "metadata": {},
   "outputs": [],
   "source": []
  }
 ],
 "metadata": {
  "kernelspec": {
   "display_name": "Python 3",
   "language": "python",
   "name": "python3"
  },
  "language_info": {
   "codemirror_mode": {
    "name": "ipython",
    "version": 3
   },
   "file_extension": ".py",
   "mimetype": "text/x-python",
   "name": "python",
   "nbconvert_exporter": "python",
   "pygments_lexer": "ipython3",
   "version": "3.8.8"
  }
 },
 "nbformat": 4,
 "nbformat_minor": 5
}
